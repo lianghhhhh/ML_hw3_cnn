{
  "nbformat": 4,
  "nbformat_minor": 0,
  "metadata": {
    "accelerator": "GPU",
    "colab": {
      "provenance": [],
      "include_colab_link": true
    },
    "kernelspec": {
      "display_name": "Python 3",
      "name": "python3"
    }
  },
  "cells": [
    {
      "cell_type": "markdown",
      "metadata": {
        "id": "view-in-github",
        "colab_type": "text"
      },
      "source": [
        "<a href=\"https://colab.research.google.com/github/lianghhhhh/ML_hw3_cnn/blob/main/Copy_of_hw3_CNN.ipynb\" target=\"_parent\"><img src=\"https://colab.research.google.com/assets/colab-badge.svg\" alt=\"Open In Colab\"/></a>"
      ]
    },
    {
      "cell_type": "markdown",
      "metadata": {
        "id": "D_a2USyd4giE"
      },
      "source": [
        "# **Homework 3 - Convolutional Neural Network**\n",
        "\n",
        "若有任何問題，歡迎來信至助教信箱 ntu-ml-2020spring-ta@googlegroups.com"
      ]
    },
    {
      "cell_type": "code",
      "metadata": {
        "id": "zhzdomRTOKoJ"
      },
      "source": [
        "!gdown --id '19CzXudqN58R3D-1G8KeFWk8UDQwlb8is' --output food-11.zip # 下載資料集\n",
        "!unzip food-11.zip # 解壓縮"
      ],
      "execution_count": null,
      "outputs": []
    },
    {
      "cell_type": "code",
      "metadata": {
        "id": "9sVrKci4PUFW"
      },
      "source": [
        "# Import需要的套件\n",
        "import os\n",
        "import numpy as np\n",
        "import cv2\n",
        "import torch\n",
        "import torch.nn as nn\n",
        "import torchvision.transforms as transforms\n",
        "import pandas as pd\n",
        "from torch.utils.data import DataLoader, Dataset\n",
        "import time"
      ],
      "execution_count": 2,
      "outputs": []
    },
    {
      "cell_type": "markdown",
      "metadata": {
        "id": "F0i9ZCPrOVN_"
      },
      "source": [
        "#Read image\n",
        "利用 OpenCV (cv2) 讀入照片並存放在 numpy array 中"
      ]
    },
    {
      "cell_type": "code",
      "metadata": {
        "id": "Zf7QPifJQNUK"
      },
      "source": [
        "def readfile(path, label):\n",
        "    # label 是一個 boolean variable，代表需不需要回傳 y 值\n",
        "    image_dir = sorted(os.listdir(path))\n",
        "    x = np.zeros((len(image_dir), 128, 128, 3), dtype=np.uint8)\n",
        "    y = np.zeros((len(image_dir)), dtype=np.uint8)\n",
        "    for i, file in enumerate(image_dir):\n",
        "        img = cv2.imread(os.path.join(path, file))\n",
        "        x[i, :, :] = cv2.resize(img,(128, 128))\n",
        "        if label:\n",
        "          y[i] = int(file.split(\"_\")[0])\n",
        "    if label:\n",
        "      return x, y\n",
        "    else:\n",
        "      return x"
      ],
      "execution_count": 3,
      "outputs": []
    },
    {
      "cell_type": "code",
      "metadata": {
        "colab": {
          "base_uri": "https://localhost:8080/"
        },
        "id": "5ebVIY5HQQH7",
        "outputId": "e9aee918-3c51-4fef-f937-e7ef815858af"
      },
      "source": [
        "# 分別將 training set、validation set、testing set 用 readfile 函式讀進來\n",
        "workspace_dir = './food-11'\n",
        "print(\"Reading data\")\n",
        "train_x, train_y = readfile(os.path.join(workspace_dir, \"training\"), True)\n",
        "print(\"Size of training data = {}\".format(len(train_x)))\n",
        "val_x, val_y = readfile(os.path.join(workspace_dir, \"validation\"), True)\n",
        "print(\"Size of validation data = {}\".format(len(val_x)))\n",
        "test_x = readfile(os.path.join(workspace_dir, \"testing\"), False)\n",
        "print(\"Size of Testing data = {}\".format(len(test_x)))"
      ],
      "execution_count": 4,
      "outputs": [
        {
          "output_type": "stream",
          "name": "stdout",
          "text": [
            "Reading data\n",
            "Size of training data = 9866\n",
            "Size of validation data = 3430\n",
            "Size of Testing data = 3347\n"
          ]
        }
      ]
    },
    {
      "cell_type": "markdown",
      "metadata": {
        "id": "gq5KVMM3OHY6"
      },
      "source": [
        "# Dataset\n",
        "在 PyTorch 中，我們可以利用 torch.utils.data 的 Dataset 及 DataLoader 來\"包裝\" data，使後續的 training 及 testing 更為方便。\n",
        "\n",
        "Dataset 需要 overload 兩個函數：\\_\\_len\\_\\_ 及 \\_\\_getitem\\_\\_\n",
        "\n",
        "\\_\\_len\\_\\_ 必須要回傳 dataset 的大小，而 \\_\\_getitem\\_\\_ 則定義了當程式利用 [ ] 取值時，dataset 應該要怎麼回傳資料。\n",
        "\n",
        "實際上我們並不會直接使用到這兩個函數，但是使用 DataLoader 在 enumerate Dataset 時會使用到，沒有實做的話會在程式運行階段出現 error。\n"
      ]
    },
    {
      "cell_type": "code",
      "metadata": {
        "id": "gKd2abixQghI"
      },
      "source": [
        "# training 時做 data augmentation\n",
        "train_transform = transforms.Compose([\n",
        "    transforms.ToPILImage(),\n",
        "    transforms.RandomHorizontalFlip(), # 隨機將圖片水平翻轉\n",
        "    transforms.RandomRotation(15), # 隨機旋轉圖片\n",
        "    transforms.ToTensor(), # 將圖片轉成 Tensor，並把數值 normalize 到 [0,1] (data normalization)\n",
        "])\n",
        "# testing 時不需做 data augmentation\n",
        "test_transform = transforms.Compose([\n",
        "    transforms.ToPILImage(),\n",
        "    transforms.ToTensor(),\n",
        "])\n",
        "class ImgDataset(Dataset):\n",
        "    def __init__(self, x, y=None, transform=None):\n",
        "        self.x = x\n",
        "        # label is required to be a LongTensor\n",
        "        self.y = y\n",
        "        if y is not None:\n",
        "            self.y = torch.LongTensor(y)\n",
        "        self.transform = transform\n",
        "    def __len__(self):\n",
        "        return len(self.x)\n",
        "    def __getitem__(self, index):\n",
        "        X = self.x[index]\n",
        "        if self.transform is not None:\n",
        "            X = self.transform(X)\n",
        "        if self.y is not None:\n",
        "            Y = self.y[index]\n",
        "            return X, Y\n",
        "        else:\n",
        "            return X"
      ],
      "execution_count": 5,
      "outputs": []
    },
    {
      "cell_type": "code",
      "metadata": {
        "id": "qz6jeMnkQl0_"
      },
      "source": [
        "batch_size = 128\n",
        "train_set = ImgDataset(train_x, train_y, train_transform)\n",
        "val_set = ImgDataset(val_x, val_y, test_transform)\n",
        "train_loader = DataLoader(train_set, batch_size=batch_size, shuffle=True)\n",
        "val_loader = DataLoader(val_set, batch_size=batch_size, shuffle=False)"
      ],
      "execution_count": 6,
      "outputs": []
    },
    {
      "cell_type": "markdown",
      "metadata": {
        "id": "j9YhZo7POPYG"
      },
      "source": [
        "# Model"
      ]
    },
    {
      "cell_type": "code",
      "metadata": {
        "id": "Y1c-GwrMQqMl"
      },
      "source": [
        "class Classifier(nn.Module):\n",
        "    def __init__(self):\n",
        "        super(Classifier, self).__init__()\n",
        "        # torch.nn.Conv2d(in_channels, out_channels, kernel_size, stride, padding)\n",
        "        # torch.nn.MaxPool2d(kernel_size, stride, padding)\n",
        "        # input 維度 [3, 128, 128]\n",
        "        self.cnn = nn.Sequential(\n",
        "            nn.Conv2d(3, 64, 3, 1, 1),  # [64, 128, 128]\n",
        "            nn.BatchNorm2d(64),\n",
        "            nn.ReLU(),\n",
        "            nn.MaxPool2d(2, 2, 0),      # [64, 64, 64]\n",
        "\n",
        "            nn.Conv2d(64, 128, 3, 1, 1), # [128, 64, 64]\n",
        "            nn.BatchNorm2d(128),\n",
        "            nn.ReLU(),\n",
        "            nn.MaxPool2d(2, 2, 0),      # [128, 32, 32]\n",
        "\n",
        "            nn.Conv2d(128, 256, 3, 1, 1), # [256, 32, 32]\n",
        "            nn.BatchNorm2d(256),\n",
        "            nn.ReLU(),\n",
        "            nn.MaxPool2d(2, 2, 0),      # [256, 16, 16]\n",
        "\n",
        "            nn.Conv2d(256, 512, 3, 1, 1), # [512, 16, 16]\n",
        "            nn.BatchNorm2d(512),\n",
        "            nn.ReLU(),\n",
        "            nn.MaxPool2d(2, 2, 0),       # [512, 8, 8]\n",
        "\n",
        "            nn.Conv2d(512, 512, 3, 1, 1), # [512, 8, 8]\n",
        "            nn.BatchNorm2d(512),\n",
        "            nn.ReLU(),\n",
        "            nn.MaxPool2d(2, 2, 0),       # [512, 4, 4]\n",
        "        )\n",
        "        self.fc = nn.Sequential(\n",
        "            nn.Linear(512*4*4, 1024),\n",
        "            nn.ReLU(),\n",
        "            nn.Linear(1024, 512),\n",
        "            nn.ReLU(),\n",
        "            nn.Linear(512, 11)\n",
        "        )\n",
        "\n",
        "    def forward(self, x):\n",
        "        out = self.cnn(x)\n",
        "        out = out.view(out.size()[0], -1)\n",
        "        return self.fc(out)"
      ],
      "execution_count": 7,
      "outputs": []
    },
    {
      "cell_type": "markdown",
      "metadata": {
        "id": "aEnGbriXORN3"
      },
      "source": [
        "# Training"
      ]
    },
    {
      "cell_type": "markdown",
      "metadata": {
        "id": "_5x-FH2Kr_jh"
      },
      "source": [
        "使用 training set 訓練，並使用 validation set 尋找好的參數"
      ]
    },
    {
      "cell_type": "code",
      "metadata": {
        "colab": {
          "base_uri": "https://localhost:8080/"
        },
        "id": "PHaFE-8oQtkC",
        "outputId": "7388c39b-f67d-4102-cb43-6ce6301920fc"
      },
      "source": [
        "model = Classifier().cuda()\n",
        "loss = nn.CrossEntropyLoss() # 因為是 classification task，所以 loss 使用 CrossEntropyLoss\n",
        "optimizer = torch.optim.Adam(model.parameters(), lr=0.001) # optimizer 使用 Adam\n",
        "num_epoch = 30\n",
        "\n",
        "train_loss_record = []\n",
        "valid_loss_record = []\n",
        "train_acc_record = []\n",
        "valid_acc_record = []\n",
        "\n",
        "for epoch in range(num_epoch):\n",
        "    epoch_start_time = time.time()\n",
        "    train_acc = 0.0\n",
        "    train_loss = 0.0\n",
        "    val_acc = 0.0\n",
        "    val_loss = 0.0\n",
        "\n",
        "    model.train() # 確保 model 是在 train model (開啟 Dropout 等...)\n",
        "    for i, data in enumerate(train_loader):\n",
        "        optimizer.zero_grad() # 用 optimizer 將 model 參數的 gradient 歸零\n",
        "        train_pred = model(data[0].cuda()) # 利用 model 得到預測的機率分佈 這邊實際上就是去呼叫 model 的 forward 函數\n",
        "        batch_loss = loss(train_pred, data[1].cuda()) # 計算 loss （注意 prediction 跟 label 必須同時在 CPU 或是 GPU 上）\n",
        "        batch_loss.backward() # 利用 back propagation 算出每個參數的 gradient\n",
        "        optimizer.step() # 以 optimizer 用 gradient 更新參數值\n",
        "\n",
        "        train_acc += np.sum(np.argmax(train_pred.cpu().data.numpy(), axis=1) == data[1].numpy())\n",
        "        train_loss += batch_loss.item()\n",
        "\n",
        "    model.eval()\n",
        "    with torch.no_grad():\n",
        "        for i, data in enumerate(val_loader):\n",
        "            val_pred = model(data[0].cuda())\n",
        "            batch_loss = loss(val_pred, data[1].cuda())\n",
        "\n",
        "            val_acc += np.sum(np.argmax(val_pred.cpu().data.numpy(), axis=1) == data[1].numpy())\n",
        "            val_loss += batch_loss.item()\n",
        "\n",
        "        #將結果 print 出來\n",
        "        print('[%03d/%03d] %2.2f sec(s) Train Acc: %3.6f Loss: %3.6f | Val Acc: %3.6f loss: %3.6f' % \\\n",
        "            (epoch + 1, num_epoch, time.time()-epoch_start_time, \\\n",
        "             train_acc/train_set.__len__(), train_loss/train_set.__len__(), val_acc/val_set.__len__(), val_loss/val_set.__len__()))\n",
        "    train_loss_record.append(train_loss/train_set.__len__())\n",
        "    valid_loss_record.append(val_loss/val_set.__len__())\n",
        "    train_acc_record.append(train_acc/train_set.__len__())\n",
        "    valid_acc_record.append(val_acc/val_set.__len__())"
      ],
      "execution_count": 8,
      "outputs": [
        {
          "output_type": "stream",
          "name": "stdout",
          "text": [
            "[001/030] 25.63 sec(s) Train Acc: 0.206669 Loss: 0.018502 | Val Acc: 0.156268 loss: 0.020043\n",
            "[002/030] 24.05 sec(s) Train Acc: 0.320191 Loss: 0.015200 | Val Acc: 0.317493 loss: 0.015457\n",
            "[003/030] 24.56 sec(s) Train Acc: 0.384249 Loss: 0.013743 | Val Acc: 0.412536 loss: 0.013313\n",
            "[004/030] 24.66 sec(s) Train Acc: 0.433813 Loss: 0.012595 | Val Acc: 0.365015 loss: 0.015724\n",
            "[005/030] 24.86 sec(s) Train Acc: 0.478512 Loss: 0.011745 | Val Acc: 0.456268 loss: 0.012623\n",
            "[006/030] 25.06 sec(s) Train Acc: 0.502737 Loss: 0.011321 | Val Acc: 0.450729 loss: 0.012720\n",
            "[007/030] 25.18 sec(s) Train Acc: 0.528786 Loss: 0.010904 | Val Acc: 0.455685 loss: 0.012942\n",
            "[008/030] 25.08 sec(s) Train Acc: 0.543989 Loss: 0.010309 | Val Acc: 0.485423 loss: 0.012571\n",
            "[009/030] 25.08 sec(s) Train Acc: 0.572471 Loss: 0.009682 | Val Acc: 0.484840 loss: 0.012587\n",
            "[010/030] 25.16 sec(s) Train Acc: 0.593858 Loss: 0.009145 | Val Acc: 0.450729 loss: 0.012719\n",
            "[011/030] 25.15 sec(s) Train Acc: 0.605210 Loss: 0.008813 | Val Acc: 0.462682 loss: 0.014199\n",
            "[012/030] 25.21 sec(s) Train Acc: 0.632678 Loss: 0.008318 | Val Acc: 0.592420 loss: 0.009374\n",
            "[013/030] 24.95 sec(s) Train Acc: 0.656598 Loss: 0.007892 | Val Acc: 0.530029 loss: 0.011672\n",
            "[014/030] 25.11 sec(s) Train Acc: 0.657815 Loss: 0.007724 | Val Acc: 0.500583 loss: 0.013016\n",
            "[015/030] 25.20 sec(s) Train Acc: 0.680722 Loss: 0.007285 | Val Acc: 0.521574 loss: 0.012669\n",
            "[016/030] 25.14 sec(s) Train Acc: 0.681634 Loss: 0.007279 | Val Acc: 0.530321 loss: 0.011795\n",
            "[017/030] 25.20 sec(s) Train Acc: 0.694709 Loss: 0.006981 | Val Acc: 0.480175 loss: 0.016180\n",
            "[018/030] 25.07 sec(s) Train Acc: 0.684675 Loss: 0.007132 | Val Acc: 0.559767 loss: 0.011334\n",
            "[019/030] 24.96 sec(s) Train Acc: 0.742246 Loss: 0.005949 | Val Acc: 0.592128 loss: 0.009941\n",
            "[020/030] 25.26 sec(s) Train Acc: 0.741841 Loss: 0.005807 | Val Acc: 0.619534 loss: 0.009048\n",
            "[021/030] 25.25 sec(s) Train Acc: 0.745794 Loss: 0.005581 | Val Acc: 0.637318 loss: 0.009298\n",
            "[022/030] 25.22 sec(s) Train Acc: 0.762720 Loss: 0.005272 | Val Acc: 0.609913 loss: 0.010103\n",
            "[023/030] 25.24 sec(s) Train Acc: 0.785323 Loss: 0.004925 | Val Acc: 0.589504 loss: 0.012682\n",
            "[024/030] 25.04 sec(s) Train Acc: 0.781573 Loss: 0.004985 | Val Acc: 0.614577 loss: 0.010438\n",
            "[025/030] 25.05 sec(s) Train Acc: 0.780458 Loss: 0.004917 | Val Acc: 0.524781 loss: 0.014821\n",
            "[026/030] 25.21 sec(s) Train Acc: 0.806710 Loss: 0.004371 | Val Acc: 0.626822 loss: 0.010067\n",
            "[027/030] 25.21 sec(s) Train Acc: 0.818974 Loss: 0.004075 | Val Acc: 0.651020 loss: 0.009381\n",
            "[028/030] 25.28 sec(s) Train Acc: 0.827387 Loss: 0.003934 | Val Acc: 0.610204 loss: 0.012065\n",
            "[029/030] 25.22 sec(s) Train Acc: 0.837320 Loss: 0.003745 | Val Acc: 0.621866 loss: 0.011109\n",
            "[030/030] 25.09 sec(s) Train Acc: 0.849483 Loss: 0.003504 | Val Acc: 0.630904 loss: 0.011607\n"
          ]
        }
      ]
    },
    {
      "cell_type": "markdown",
      "source": [
        "Visualize data"
      ],
      "metadata": {
        "id": "fU_UDDAR6hLY"
      }
    },
    {
      "cell_type": "code",
      "source": [
        "import matplotlib.pyplot as plt\n",
        "\n",
        "x = np.arange(len(train_acc_record))\n",
        "plt.plot(x, train_acc_record, color=\"blue\", label=\"Train\")\n",
        "plt.plot(x, valid_acc_record, color=\"red\", label=\"Valid\")\n",
        "plt.legend(loc=\"upper right\")\n",
        "plt.show()\n",
        "\n",
        "\n",
        "x = np.arange(len(train_loss_record))\n",
        "plt.plot(x, train_loss_record, color=\"blue\", label=\"Train\")\n",
        "plt.plot(x, valid_loss_record, color=\"red\", label=\"Valid\")\n",
        "plt.legend(loc=\"upper right\")\n",
        "plt.show()"
      ],
      "metadata": {
        "colab": {
          "base_uri": "https://localhost:8080/",
          "height": 843
        },
        "id": "jV7_ZpqZ6kK6",
        "outputId": "05393b93-0fd1-449d-dc85-7ea4121748a1"
      },
      "execution_count": 9,
      "outputs": [
        {
          "output_type": "display_data",
          "data": {
            "text/plain": [
              "<Figure size 640x480 with 1 Axes>"
            ],
            "image/png": "[encoded data removed]"
          },
          "metadata": {}
        },
        {
          "output_type": "display_data",
          "data": {
            "text/plain": [
              "<Figure size 640x480 with 1 Axes>"
            ],
            "image/png": "[encoded data removed]"
          },
          "metadata": {}
        }
      ]
    },
    {
      "cell_type": "markdown",
      "metadata": {
        "id": "2-ssSxXlsI_T"
      },
      "source": [
        "得到好的參數後，我們使用 training set 和 validation set 共同訓練（資料量變多，模型效果較好）"
      ]
    },
    {
      "cell_type": "code",
      "metadata": {
        "id": "RKoUxLun8lFG"
      },
      "source": [
        "train_val_x = np.concatenate((train_x, val_x), axis=0)\n",
        "train_val_y = np.concatenate((train_y, val_y), axis=0)\n",
        "train_val_set = ImgDataset(train_val_x, train_val_y, train_transform)\n",
        "train_val_loader = DataLoader(train_val_set, batch_size=batch_size, shuffle=True)"
      ],
      "execution_count": 10,
      "outputs": []
    },
    {
      "cell_type": "code",
      "metadata": {
        "colab": {
          "base_uri": "https://localhost:8080/"
        },
        "id": "OoAS5TtRsfOo",
        "outputId": "106b6af8-de94-4e81-9638-d2c096d643c5"
      },
      "source": [
        "model_best = Classifier().cuda()\n",
        "loss = nn.CrossEntropyLoss() # 因為是 classification task，所以 loss 使用 CrossEntropyLoss\n",
        "optimizer = torch.optim.Adam(model_best.parameters(), lr=0.001) # optimizer 使用 Adam\n",
        "num_epoch = 30\n",
        "\n",
        "for epoch in range(num_epoch):\n",
        "    epoch_start_time = time.time()\n",
        "    train_acc = 0.0\n",
        "    train_loss = 0.0\n",
        "\n",
        "    model_best.train()\n",
        "    for i, data in enumerate(train_val_loader):\n",
        "        optimizer.zero_grad()\n",
        "        train_pred = model_best(data[0].cuda())\n",
        "        batch_loss = loss(train_pred, data[1].cuda())\n",
        "        batch_loss.backward()\n",
        "        optimizer.step()\n",
        "\n",
        "        train_acc += np.sum(np.argmax(train_pred.cpu().data.numpy(), axis=1) == data[1].numpy())\n",
        "        train_loss += batch_loss.item()\n",
        "\n",
        "        #將結果 print 出來\n",
        "    print('[%03d/%03d] %2.2f sec(s) Train Acc: %3.6f Loss: %3.6f' % \\\n",
        "      (epoch + 1, num_epoch, time.time()-epoch_start_time, \\\n",
        "      train_acc/train_val_set.__len__(), train_loss/train_val_set.__len__()))"
      ],
      "execution_count": 11,
      "outputs": [
        {
          "output_type": "stream",
          "name": "stdout",
          "text": [
            "[001/030] 30.03 sec(s) Train Acc: 0.257747 Loss: 0.017175\n",
            "[002/030] 31.12 sec(s) Train Acc: 0.370111 Loss: 0.014028\n",
            "[003/030] 29.89 sec(s) Train Acc: 0.433739 Loss: 0.012698\n",
            "[004/030] 29.81 sec(s) Train Acc: 0.476835 Loss: 0.011803\n",
            "[005/030] 29.91 sec(s) Train Acc: 0.516697 Loss: 0.010897\n",
            "[006/030] 29.86 sec(s) Train Acc: 0.556258 Loss: 0.009905\n",
            "[007/030] 30.00 sec(s) Train Acc: 0.584762 Loss: 0.009403\n",
            "[008/030] 30.08 sec(s) Train Acc: 0.622217 Loss: 0.008653\n",
            "[009/030] 29.95 sec(s) Train Acc: 0.639140 Loss: 0.008077\n",
            "[010/030] 29.99 sec(s) Train Acc: 0.669374 Loss: 0.007514\n",
            "[011/030] 29.88 sec(s) Train Acc: 0.684868 Loss: 0.007072\n",
            "[012/030] 30.07 sec(s) Train Acc: 0.699609 Loss: 0.006702\n",
            "[013/030] 30.13 sec(s) Train Acc: 0.716080 Loss: 0.006388\n",
            "[014/030] 30.04 sec(s) Train Acc: 0.726685 Loss: 0.006040\n",
            "[015/030] 29.93 sec(s) Train Acc: 0.755942 Loss: 0.005537\n",
            "[016/030] 29.90 sec(s) Train Acc: 0.760078 Loss: 0.005361\n",
            "[017/030] 29.84 sec(s) Train Acc: 0.780761 Loss: 0.004961\n",
            "[018/030] 29.96 sec(s) Train Acc: 0.791065 Loss: 0.004649\n",
            "[019/030] 30.21 sec(s) Train Acc: 0.793171 Loss: 0.004614\n",
            "[020/030] 29.98 sec(s) Train Acc: 0.813327 Loss: 0.004131\n",
            "[021/030] 29.97 sec(s) Train Acc: 0.829573 Loss: 0.003815\n",
            "[022/030] 29.85 sec(s) Train Acc: 0.837771 Loss: 0.003610\n",
            "[023/030] 29.77 sec(s) Train Acc: 0.847999 Loss: 0.003420\n",
            "[024/030] 29.83 sec(s) Train Acc: 0.861763 Loss: 0.003032\n",
            "[025/030] 30.00 sec(s) Train Acc: 0.872518 Loss: 0.002825\n",
            "[026/030] 30.04 sec(s) Train Acc: 0.878610 Loss: 0.002726\n",
            "[027/030] 29.85 sec(s) Train Acc: 0.890042 Loss: 0.002456\n",
            "[028/030] 29.79 sec(s) Train Acc: 0.890869 Loss: 0.002436\n",
            "[029/030] 29.81 sec(s) Train Acc: 0.902753 Loss: 0.002121\n",
            "[030/030] 29.96 sec(s) Train Acc: 0.913809 Loss: 0.001869\n"
          ]
        }
      ]
    },
    {
      "cell_type": "markdown",
      "metadata": {
        "id": "2o1oCMXy61_3"
      },
      "source": [
        "# Testing\n",
        "利用剛剛 train 好的 model 進行 prediction"
      ]
    },
    {
      "cell_type": "code",
      "metadata": {
        "id": "iAR6sn8U661G"
      },
      "source": [
        "test_set = ImgDataset(test_x, transform=test_transform)\n",
        "test_loader = DataLoader(test_set, batch_size=batch_size, shuffle=False)"
      ],
      "execution_count": 12,
      "outputs": []
    },
    {
      "cell_type": "code",
      "metadata": {
        "id": "4HznI9_-ocrq"
      },
      "source": [
        "model_best.eval()\n",
        "prediction = []\n",
        "with torch.no_grad():\n",
        "    for i, data in enumerate(test_loader):\n",
        "        test_pred = model_best(data.cuda())\n",
        "        test_label = np.argmax(test_pred.cpu().data.numpy(), axis=1)\n",
        "        for y in test_label:\n",
        "            prediction.append(y)"
      ],
      "execution_count": 13,
      "outputs": []
    },
    {
      "cell_type": "code",
      "metadata": {
        "id": "3t2q2Th85ZUE"
      },
      "source": [
        "#將結果寫入 csv 檔\n",
        "with open(\"predict.csv\", 'w') as f:\n",
        "    f.write('Id,Category\\n')\n",
        "    for i, y in  enumerate(prediction):\n",
        "        f.write('{},{}\\n'.format(i, y))"
      ],
      "execution_count": 14,
      "outputs": []
    },
    {
      "cell_type": "markdown",
      "source": [
        "# Create requirements.txt"
      ],
      "metadata": {
        "id": "4IsP5S0M6qSx"
      }
    },
    {
      "cell_type": "code",
      "source": [
        "!pip install pipreqs"
      ],
      "metadata": {
        "colab": {
          "base_uri": "https://localhost:8080/"
        },
        "id": "BZGwRtfw6ut5",
        "outputId": "47b78cc8-149f-4ec1-f1d9-0ea351ac598a"
      },
      "execution_count": 15,
      "outputs": [
        {
          "output_type": "stream",
          "name": "stdout",
          "text": [
            "Collecting pipreqs\n",
            "  Downloading pipreqs-0.4.13-py2.py3-none-any.whl (33 kB)\n",
            "Collecting docopt (from pipreqs)\n",
            "  Downloading docopt-0.6.2.tar.gz (25 kB)\n",
            "  Preparing metadata (setup.py) ... \u001b[?25l\u001b[?25hdone\n",
            "Collecting yarg (from pipreqs)\n",
            "  Downloading yarg-0.1.9-py2.py3-none-any.whl (19 kB)\n",
            "Requirement already satisfied: requests in /usr/local/lib/python3.10/dist-packages (from yarg->pipreqs) (2.31.0)\n",
            "Requirement already satisfied: charset-normalizer<4,>=2 in /usr/local/lib/python3.10/dist-packages (from requests->yarg->pipreqs) (3.3.2)\n",
            "Requirement already satisfied: idna<4,>=2.5 in /usr/local/lib/python3.10/dist-packages (from requests->yarg->pipreqs) (3.4)\n",
            "Requirement already satisfied: urllib3<3,>=1.21.1 in /usr/local/lib/python3.10/dist-packages (from requests->yarg->pipreqs) (2.0.7)\n",
            "Requirement already satisfied: certifi>=2017.4.17 in /usr/local/lib/python3.10/dist-packages (from requests->yarg->pipreqs) (2023.7.22)\n",
            "Building wheels for collected packages: docopt\n",
            "  Building wheel for docopt (setup.py) ... \u001b[?25l\u001b[?25hdone\n",
            "  Created wheel for docopt: filename=docopt-0.6.2-py2.py3-none-any.whl size=13706 sha256=4e820f0e94a61dd065d549975d2b2da3b1c5d3f03871b07c20e0dc4a10c8e85f\n",
            "  Stored in directory: /root/.cache/pip/wheels/fc/ab/d4/5da2067ac95b36618c629a5f93f809425700506f72c9732fac\n",
            "Successfully built docopt\n",
            "Installing collected packages: docopt, yarg, pipreqs\n",
            "Successfully installed docopt-0.6.2 pipreqs-0.4.13 yarg-0.1.9\n"
          ]
        }
      ]
    },
    {
      "cell_type": "code",
      "source": [
        "pip freeze > requirements.txt"
      ],
      "metadata": {
        "id": "u5fgzz8e67zl"
      },
      "execution_count": 19,
      "outputs": []
    }
  ]
}