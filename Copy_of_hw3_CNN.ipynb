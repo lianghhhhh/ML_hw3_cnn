{
  "nbformat": 4,
  "nbformat_minor": 0,
  "metadata": {
    "accelerator": "GPU",
    "colab": {
      "provenance": [],
      "include_colab_link": true
    },
    "kernelspec": {
      "display_name": "Python 3",
      "name": "python3"
    }
  },
  "cells": [
    {
      "cell_type": "markdown",
      "metadata": {
        "id": "view-in-github",
        "colab_type": "text"
      },
      "source": [
        "<a href=\"https://colab.research.google.com/github/lianghhhhh/ML_hw3_cnn/blob/main/Copy_of_hw3_CNN.ipynb\" target=\"_parent\"><img src=\"https://colab.research.google.com/assets/colab-badge.svg\" alt=\"Open In Colab\"/></a>"
      ]
    },
    {
      "cell_type": "markdown",
      "metadata": {
        "id": "D_a2USyd4giE"
      },
      "source": [
        "# **Homework 3 - Convolutional Neural Network**\n",
        "\n",
        "若有任何問題，歡迎來信至助教信箱 ntu-ml-2020spring-ta@googlegroups.com"
      ]
    },
    {
      "cell_type": "code",
      "metadata": {
        "id": "zhzdomRTOKoJ"
      },
      "source": [
        "!gdown --id '19CzXudqN58R3D-1G8KeFWk8UDQwlb8is' --output food-11.zip # 下載資料集\n",
        "!unzip food-11.zip # 解壓縮"
      ],
      "execution_count": null,
      "outputs": []
    },
    {
      "cell_type": "code",
      "metadata": {
        "id": "9sVrKci4PUFW"
      },
      "source": [
        "# Import需要的套件\n",
        "import os\n",
        "import numpy as np\n",
        "import cv2\n",
        "import torch\n",
        "import torch.nn as nn\n",
        "import torchvision.transforms as transforms\n",
        "import pandas as pd\n",
        "from torch.utils.data import DataLoader, Dataset\n",
        "import time"
      ],
      "execution_count": 2,
      "outputs": []
    },
    {
      "cell_type": "markdown",
      "metadata": {
        "id": "F0i9ZCPrOVN_"
      },
      "source": [
        "#Read image\n",
        "利用 OpenCV (cv2) 讀入照片並存放在 numpy array 中"
      ]
    },
    {
      "cell_type": "code",
      "metadata": {
        "id": "Zf7QPifJQNUK"
      },
      "source": [
        "def readfile(path, label):\n",
        "    # label 是一個 boolean variable，代表需不需要回傳 y 值\n",
        "    image_dir = sorted(os.listdir(path))\n",
        "    x = np.zeros((len(image_dir), 128, 128, 3), dtype=np.uint8)\n",
        "    y = np.zeros((len(image_dir)), dtype=np.uint8)\n",
        "    for i, file in enumerate(image_dir):\n",
        "        img = cv2.imread(os.path.join(path, file))\n",
        "        x[i, :, :] = cv2.resize(img,(128, 128))\n",
        "        if label:\n",
        "          y[i] = int(file.split(\"_\")[0])\n",
        "    if label:\n",
        "      return x, y\n",
        "    else:\n",
        "      return x"
      ],
      "execution_count": 3,
      "outputs": []
    },
    {
      "cell_type": "code",
      "metadata": {
        "colab": {
          "base_uri": "https://localhost:8080/"
        },
        "id": "5ebVIY5HQQH7",
        "outputId": "4e18e711-7a50-46cb-b949-df93f49b30ad"
      },
      "source": [
        "# 分別將 training set、validation set、testing set 用 readfile 函式讀進來\n",
        "workspace_dir = './food-11'\n",
        "print(\"Reading data\")\n",
        "train_x, train_y = readfile(os.path.join(workspace_dir, \"training\"), True)\n",
        "print(\"Size of training data = {}\".format(len(train_x)))\n",
        "val_x, val_y = readfile(os.path.join(workspace_dir, \"validation\"), True)\n",
        "print(\"Size of validation data = {}\".format(len(val_x)))\n",
        "test_x = readfile(os.path.join(workspace_dir, \"testing\"), False)\n",
        "print(\"Size of Testing data = {}\".format(len(test_x)))"
      ],
      "execution_count": 4,
      "outputs": [
        {
          "output_type": "stream",
          "name": "stdout",
          "text": [
            "Reading data\n",
            "Size of training data = 9866\n",
            "Size of validation data = 3430\n",
            "Size of Testing data = 3347\n"
          ]
        }
      ]
    },
    {
      "cell_type": "markdown",
      "metadata": {
        "id": "gq5KVMM3OHY6"
      },
      "source": [
        "# Dataset\n",
        "在 PyTorch 中，我們可以利用 torch.utils.data 的 Dataset 及 DataLoader 來\"包裝\" data，使後續的 training 及 testing 更為方便。\n",
        "\n",
        "Dataset 需要 overload 兩個函數：\\_\\_len\\_\\_ 及 \\_\\_getitem\\_\\_\n",
        "\n",
        "\\_\\_len\\_\\_ 必須要回傳 dataset 的大小，而 \\_\\_getitem\\_\\_ 則定義了當程式利用 [ ] 取值時，dataset 應該要怎麼回傳資料。\n",
        "\n",
        "實際上我們並不會直接使用到這兩個函數，但是使用 DataLoader 在 enumerate Dataset 時會使用到，沒有實做的話會在程式運行階段出現 error。\n"
      ]
    },
    {
      "cell_type": "code",
      "metadata": {
        "id": "gKd2abixQghI"
      },
      "source": [
        "# training 時做 data augmentation\n",
        "train_transform = transforms.Compose([\n",
        "    transforms.ToPILImage(),\n",
        "    transforms.RandomHorizontalFlip(), # 隨機將圖片水平翻轉\n",
        "    transforms.RandomRotation(15), # 隨機旋轉圖片\n",
        "    transforms.ToTensor(), # 將圖片轉成 Tensor，並把數值 normalize 到 [0,1] (data normalization)\n",
        "])\n",
        "# testing 時不需做 data augmentation\n",
        "test_transform = transforms.Compose([\n",
        "    transforms.ToPILImage(),\n",
        "    transforms.ToTensor(),\n",
        "])\n",
        "class ImgDataset(Dataset):\n",
        "    def __init__(self, x, y=None, transform=None):\n",
        "        self.x = x\n",
        "        # label is required to be a LongTensor\n",
        "        self.y = y\n",
        "        if y is not None:\n",
        "            self.y = torch.LongTensor(y)\n",
        "        self.transform = transform\n",
        "    def __len__(self):\n",
        "        return len(self.x)\n",
        "    def __getitem__(self, index):\n",
        "        X = self.x[index]\n",
        "        if self.transform is not None:\n",
        "            X = self.transform(X)\n",
        "        if self.y is not None:\n",
        "            Y = self.y[index]\n",
        "            return X, Y\n",
        "        else:\n",
        "            return X"
      ],
      "execution_count": 5,
      "outputs": []
    },
    {
      "cell_type": "code",
      "metadata": {
        "id": "qz6jeMnkQl0_"
      },
      "source": [
        "batch_size = 128\n",
        "train_set = ImgDataset(train_x, train_y, train_transform)\n",
        "val_set = ImgDataset(val_x, val_y, test_transform)\n",
        "train_loader = DataLoader(train_set, batch_size=batch_size, shuffle=True)\n",
        "val_loader = DataLoader(val_set, batch_size=batch_size, shuffle=False)"
      ],
      "execution_count": 6,
      "outputs": []
    },
    {
      "cell_type": "markdown",
      "metadata": {
        "id": "j9YhZo7POPYG"
      },
      "source": [
        "# Model"
      ]
    },
    {
      "cell_type": "code",
      "metadata": {
        "id": "Y1c-GwrMQqMl"
      },
      "source": [
        "class Classifier(nn.Module):\n",
        "    def __init__(self):\n",
        "        super(Classifier, self).__init__()\n",
        "        # torch.nn.Conv2d(in_channels, out_channels, kernel_size, stride, padding)\n",
        "        # torch.nn.MaxPool2d(kernel_size, stride, padding)\n",
        "        # input 維度 [3, 128, 128]\n",
        "        self.cnn = nn.Sequential(\n",
        "            nn.Conv2d(3, 64, 3, 1, 1),  # [64, 128, 128]\n",
        "            nn.BatchNorm2d(64),\n",
        "            nn.ReLU(),\n",
        "            nn.MaxPool2d(2, 2, 0),      # [64, 64, 64]\n",
        "\n",
        "            nn.Conv2d(64, 128, 3, 1, 1), # [128, 64, 64]\n",
        "            nn.BatchNorm2d(128),\n",
        "            nn.ReLU(),\n",
        "            nn.MaxPool2d(2, 2, 0),      # [128, 32, 32]\n",
        "\n",
        "            nn.Conv2d(128, 256, 3, 1, 1), # [256, 32, 32]\n",
        "            nn.BatchNorm2d(256),\n",
        "            nn.ReLU(),\n",
        "            nn.MaxPool2d(2, 2, 0),      # [256, 16, 16]\n",
        "\n",
        "            nn.Conv2d(256, 512, 3, 1, 1), # [512, 16, 16]\n",
        "            nn.BatchNorm2d(512),\n",
        "            nn.ReLU(),\n",
        "            nn.MaxPool2d(2, 2, 0),       # [512, 8, 8]\n",
        "\n",
        "            nn.Conv2d(512, 512, 3, 1, 1), # [512, 8, 8]\n",
        "            nn.BatchNorm2d(512),\n",
        "            nn.ReLU(),\n",
        "            nn.MaxPool2d(2, 2, 0),       # [512, 4, 4]\n",
        "        )\n",
        "        self.fc = nn.Sequential(\n",
        "            nn.Linear(512*4*4, 1024),\n",
        "            nn.ReLU(),\n",
        "            nn.Linear(1024, 512),\n",
        "            nn.ReLU(),\n",
        "            nn.Linear(512, 11)\n",
        "        )\n",
        "\n",
        "    def forward(self, x):\n",
        "        out = self.cnn(x)\n",
        "        out = out.view(out.size()[0], -1)\n",
        "        return self.fc(out)"
      ],
      "execution_count": 7,
      "outputs": []
    },
    {
      "cell_type": "markdown",
      "metadata": {
        "id": "aEnGbriXORN3"
      },
      "source": [
        "#Training"
      ]
    },
    {
      "cell_type": "markdown",
      "metadata": {
        "id": "_5x-FH2Kr_jh"
      },
      "source": [
        "使用 training set 訓練，並使用 validation set 尋找好的參數"
      ]
    },
    {
      "cell_type": "code",
      "metadata": {
        "colab": {
          "base_uri": "https://localhost:8080/"
        },
        "id": "PHaFE-8oQtkC",
        "outputId": "403e789e-3f18-4073-f53e-fdc8beefc06d"
      },
      "source": [
        "model = Classifier().cuda()\n",
        "loss = nn.CrossEntropyLoss() # 因為是 classification task，所以 loss 使用 CrossEntropyLoss\n",
        "optimizer = torch.optim.Adam(model.parameters(), lr=0.001) # optimizer 使用 Adam\n",
        "num_epoch = 30\n",
        "\n",
        "train_loss_record = []\n",
        "valid_loss_record = []\n",
        "train_acc_record = []\n",
        "valid_acc_record = []\n",
        "\n",
        "for epoch in range(num_epoch):\n",
        "    epoch_start_time = time.time()\n",
        "    train_acc = 0.0\n",
        "    train_loss = 0.0\n",
        "    val_acc = 0.0\n",
        "    val_loss = 0.0\n",
        "\n",
        "    model.train() # 確保 model 是在 train model (開啟 Dropout 等...)\n",
        "    for i, data in enumerate(train_loader):\n",
        "        optimizer.zero_grad() # 用 optimizer 將 model 參數的 gradient 歸零\n",
        "        train_pred = model(data[0].cuda()) # 利用 model 得到預測的機率分佈 這邊實際上就是去呼叫 model 的 forward 函數\n",
        "        batch_loss = loss(train_pred, data[1].cuda()) # 計算 loss （注意 prediction 跟 label 必須同時在 CPU 或是 GPU 上）\n",
        "        batch_loss.backward() # 利用 back propagation 算出每個參數的 gradient\n",
        "        optimizer.step() # 以 optimizer 用 gradient 更新參數值\n",
        "\n",
        "        train_acc += np.sum(np.argmax(train_pred.cpu().data.numpy(), axis=1) == data[1].numpy())\n",
        "        train_loss += batch_loss.item()\n",
        "\n",
        "    model.eval()\n",
        "    with torch.no_grad():\n",
        "        for i, data in enumerate(val_loader):\n",
        "            val_pred = model(data[0].cuda())\n",
        "            batch_loss = loss(val_pred, data[1].cuda())\n",
        "\n",
        "            val_acc += np.sum(np.argmax(val_pred.cpu().data.numpy(), axis=1) == data[1].numpy())\n",
        "            val_loss += batch_loss.item()\n",
        "\n",
        "        #將結果 print 出來\n",
        "        print('[%03d/%03d] %2.2f sec(s) Train Acc: %3.6f Loss: %3.6f | Val Acc: %3.6f loss: %3.6f' % \\\n",
        "            (epoch + 1, num_epoch, time.time()-epoch_start_time, \\\n",
        "             train_acc/train_set.__len__(), train_loss/train_set.__len__(), val_acc/val_set.__len__(), val_loss/val_set.__len__()))\n",
        "    train_loss_record.append(train_loss/train_set.__len__())\n",
        "    valid_loss_record.append(val_loss/val_set.__len__())\n",
        "    train_acc_record.append(train_acc/train_set.__len__())\n",
        "    valid_acc_record.append(val_acc/val_set.__len__())"
      ],
      "execution_count": 10,
      "outputs": [
        {
          "output_type": "stream",
          "name": "stdout",
          "text": [
            "[001/030] 25.13 sec(s) Train Acc: 0.225826 Loss: 0.018410 | Val Acc: 0.265598 loss: 0.016390\n",
            "[002/030] 24.86 sec(s) Train Acc: 0.329617 Loss: 0.015020 | Val Acc: 0.248105 loss: 0.020883\n",
            "[003/030] 24.81 sec(s) Train Acc: 0.383844 Loss: 0.013876 | Val Acc: 0.402624 loss: 0.013535\n",
            "[004/030] 24.84 sec(s) Train Acc: 0.440199 Loss: 0.012786 | Val Acc: 0.301166 loss: 0.016758\n",
            "[005/030] 24.74 sec(s) Train Acc: 0.476079 Loss: 0.011883 | Val Acc: 0.398251 loss: 0.013641\n",
            "[006/030] 24.85 sec(s) Train Acc: 0.507602 Loss: 0.011219 | Val Acc: 0.485131 loss: 0.012030\n",
            "[007/030] 24.90 sec(s) Train Acc: 0.527063 Loss: 0.010666 | Val Acc: 0.449563 loss: 0.013313\n",
            "[008/030] 24.90 sec(s) Train Acc: 0.559903 Loss: 0.009949 | Val Acc: 0.475802 loss: 0.013053\n",
            "[009/030] 24.94 sec(s) Train Acc: 0.579363 Loss: 0.009465 | Val Acc: 0.501749 loss: 0.012510\n",
            "[010/030] 24.76 sec(s) Train Acc: 0.605210 Loss: 0.008916 | Val Acc: 0.381924 loss: 0.016765\n",
            "[011/030] 24.65 sec(s) Train Acc: 0.624873 Loss: 0.008497 | Val Acc: 0.506414 loss: 0.012956\n",
            "[012/030] 24.92 sec(s) Train Acc: 0.646665 Loss: 0.008093 | Val Acc: 0.428280 loss: 0.014858\n",
            "[013/030] 24.89 sec(s) Train Acc: 0.661261 Loss: 0.007631 | Val Acc: 0.611662 loss: 0.009123\n",
            "[014/030] 24.85 sec(s) Train Acc: 0.688932 Loss: 0.007162 | Val Acc: 0.525364 loss: 0.012123\n",
            "[015/030] 25.03 sec(s) Train Acc: 0.682749 Loss: 0.007217 | Val Acc: 0.541983 loss: 0.011166\n",
            "[016/030] 24.73 sec(s) Train Acc: 0.698257 Loss: 0.006728 | Val Acc: 0.551020 loss: 0.011153\n",
            "[017/030] 24.77 sec(s) Train Acc: 0.721670 Loss: 0.006326 | Val Acc: 0.561516 loss: 0.011558\n",
            "[018/030] 24.89 sec(s) Train Acc: 0.742043 Loss: 0.005880 | Val Acc: 0.569388 loss: 0.011395\n",
            "[019/030] 24.80 sec(s) Train Acc: 0.736773 Loss: 0.006093 | Val Acc: 0.562974 loss: 0.011850\n",
            "[020/030] 24.89 sec(s) Train Acc: 0.754916 Loss: 0.005590 | Val Acc: 0.450437 loss: 0.017949\n",
            "[021/030] 24.94 sec(s) Train Acc: 0.757653 Loss: 0.005353 | Val Acc: 0.607872 loss: 0.009778\n",
            "[022/030] 24.68 sec(s) Train Acc: 0.783600 Loss: 0.004768 | Val Acc: 0.581924 loss: 0.012030\n",
            "[023/030] 24.82 sec(s) Train Acc: 0.789682 Loss: 0.004686 | Val Acc: 0.624198 loss: 0.009771\n",
            "[024/030] 24.89 sec(s) Train Acc: 0.808636 Loss: 0.004246 | Val Acc: 0.644898 loss: 0.009257\n",
            "[025/030] 24.84 sec(s) Train Acc: 0.824752 Loss: 0.004009 | Val Acc: 0.637609 loss: 0.010108\n",
            "[026/030] 24.96 sec(s) Train Acc: 0.832151 Loss: 0.003710 | Val Acc: 0.615743 loss: 0.010532\n",
            "[027/030] 24.86 sec(s) Train Acc: 0.841172 Loss: 0.003584 | Val Acc: 0.530904 loss: 0.015808\n",
            "[028/030] 24.73 sec(s) Train Acc: 0.823029 Loss: 0.003916 | Val Acc: 0.663557 loss: 0.009346\n",
            "[029/030] 24.81 sec(s) Train Acc: 0.844719 Loss: 0.003439 | Val Acc: 0.590671 loss: 0.013253\n",
            "[030/030] 24.92 sec(s) Train Acc: 0.839449 Loss: 0.003550 | Val Acc: 0.616327 loss: 0.011984\n"
          ]
        }
      ]
    },
    {
      "cell_type": "markdown",
      "source": [
        " Visusalize data"
      ],
      "metadata": {
        "id": "DsjhRASICBp3"
      }
    },
    {
      "cell_type": "code",
      "source": [
        "import matplotlib.pyplot as plt\n",
        "\n",
        "x = np.arange(len(train_acc_record))\n",
        "plt.plot(x, train_acc_record, color=\"blue\", label=\"Train\")\n",
        "plt.plot(x, valid_acc_record, color=\"red\", label=\"Valid\")\n",
        "plt.legend(loc=\"upper right\")\n",
        "plt.show()\n",
        "\n",
        "\n",
        "x = np.arange(len(train_loss_record))\n",
        "plt.plot(x, train_loss_record, color=\"blue\", label=\"Train\")\n",
        "plt.plot(x, valid_loss_record, color=\"red\", label=\"Valid\")\n",
        "plt.legend(loc=\"upper right\")\n",
        "plt.show()"
      ],
      "metadata": {
        "colab": {
          "base_uri": "https://localhost:8080/",
          "height": 843
        },
        "id": "BCTwjFxfCk43",
        "outputId": "b70401ea-3f9c-462a-a560-83b1e206a779"
      },
      "execution_count": 11,
      "outputs": [
        {
          "output_type": "display_data",
          "data": {
            "text/plain": [
              "<Figure size 640x480 with 1 Axes>"
            ],
            "image/png": "[encoded data removed]"
          },
          "metadata": {}
        },
        {
          "output_type": "display_data",
          "data": {
            "text/plain": [
              "<Figure size 640x480 with 1 Axes>"
            ],
            "image/png": "[encoded data removed]"
          },
          "metadata": {}
        }
      ]
    },
    {
      "cell_type": "markdown",
      "metadata": {
        "id": "2-ssSxXlsI_T"
      },
      "source": [
        "得到好的參數後，我們使用 training set 和 validation set 共同訓練（資料量變多，模型效果較好）"
      ]
    },
    {
      "cell_type": "code",
      "metadata": {
        "id": "RKoUxLun8lFG"
      },
      "source": [
        "train_val_x = np.concatenate((train_x, val_x), axis=0)\n",
        "train_val_y = np.concatenate((train_y, val_y), axis=0)\n",
        "train_val_set = ImgDataset(train_val_x, train_val_y, train_transform)\n",
        "train_val_loader = DataLoader(train_val_set, batch_size=batch_size, shuffle=True)"
      ],
      "execution_count": 12,
      "outputs": []
    },
    {
      "cell_type": "code",
      "metadata": {
        "colab": {
          "base_uri": "https://localhost:8080/"
        },
        "id": "OoAS5TtRsfOo",
        "outputId": "d441ed2f-f4b2-4385-8889-c378d3029a74"
      },
      "source": [
        "model_best = Classifier().cuda()\n",
        "loss = nn.CrossEntropyLoss() # 因為是 classification task，所以 loss 使用 CrossEntropyLoss\n",
        "optimizer = torch.optim.Adam(model_best.parameters(), lr=0.001) # optimizer 使用 Adam\n",
        "num_epoch = 30\n",
        "\n",
        "for epoch in range(num_epoch):\n",
        "    epoch_start_time = time.time()\n",
        "    train_acc = 0.0\n",
        "    train_loss = 0.0\n",
        "\n",
        "    model_best.train()\n",
        "    for i, data in enumerate(train_val_loader):\n",
        "        optimizer.zero_grad()\n",
        "        train_pred = model_best(data[0].cuda())\n",
        "        batch_loss = loss(train_pred, data[1].cuda())\n",
        "        batch_loss.backward()\n",
        "        optimizer.step()\n",
        "\n",
        "        train_acc += np.sum(np.argmax(train_pred.cpu().data.numpy(), axis=1) == data[1].numpy())\n",
        "        train_loss += batch_loss.item()\n",
        "\n",
        "        #將結果 print 出來\n",
        "    print('[%03d/%03d] %2.2f sec(s) Train Acc: %3.6f Loss: %3.6f' % \\\n",
        "      (epoch + 1, num_epoch, time.time()-epoch_start_time, \\\n",
        "      train_acc/train_val_set.__len__(), train_loss/train_val_set.__len__()))"
      ],
      "execution_count": 14,
      "outputs": [
        {
          "output_type": "stream",
          "name": "stdout",
          "text": [
            "[001/030] 29.58 sec(s) Train Acc: 0.232250 Loss: 0.017650\n",
            "[002/030] 29.42 sec(s) Train Acc: 0.358303 Loss: 0.014237\n",
            "[003/030] 29.50 sec(s) Train Acc: 0.421931 Loss: 0.012851\n",
            "[004/030] 30.19 sec(s) Train Acc: 0.473601 Loss: 0.011813\n",
            "[005/030] 30.00 sec(s) Train Acc: 0.505415 Loss: 0.011096\n",
            "[006/030] 29.43 sec(s) Train Acc: 0.547834 Loss: 0.010114\n",
            "[007/030] 29.50 sec(s) Train Acc: 0.574684 Loss: 0.009531\n",
            "[008/030] 29.40 sec(s) Train Acc: 0.608529 Loss: 0.008836\n",
            "[009/030] 29.59 sec(s) Train Acc: 0.635529 Loss: 0.008309\n",
            "[010/030] 29.63 sec(s) Train Acc: 0.658243 Loss: 0.007759\n",
            "[011/030] 29.36 sec(s) Train Acc: 0.674113 Loss: 0.007319\n",
            "[012/030] 29.47 sec(s) Train Acc: 0.688703 Loss: 0.006970\n",
            "[013/030] 29.43 sec(s) Train Acc: 0.704347 Loss: 0.006695\n",
            "[014/030] 29.39 sec(s) Train Acc: 0.730821 Loss: 0.006101\n",
            "[015/030] 29.57 sec(s) Train Acc: 0.736312 Loss: 0.005930\n",
            "[016/030] 29.53 sec(s) Train Acc: 0.756318 Loss: 0.005466\n",
            "[017/030] 29.46 sec(s) Train Acc: 0.760153 Loss: 0.005408\n",
            "[018/030] 29.47 sec(s) Train Acc: 0.776173 Loss: 0.004918\n",
            "[019/030] 29.34 sec(s) Train Acc: 0.784446 Loss: 0.004811\n",
            "[020/030] 29.43 sec(s) Train Acc: 0.805731 Loss: 0.004317\n",
            "[021/030] 29.64 sec(s) Train Acc: 0.811974 Loss: 0.004124\n",
            "[022/030] 29.59 sec(s) Train Acc: 0.823481 Loss: 0.003886\n",
            "[023/030] 29.37 sec(s) Train Acc: 0.831152 Loss: 0.003748\n",
            "[024/030] 29.42 sec(s) Train Acc: 0.846194 Loss: 0.003361\n",
            "[025/030] 29.38 sec(s) Train Acc: 0.862365 Loss: 0.003091\n",
            "[026/030] 29.35 sec(s) Train Acc: 0.870713 Loss: 0.002890\n",
            "[027/030] 29.82 sec(s) Train Acc: 0.878836 Loss: 0.002696\n",
            "[028/030] 29.68 sec(s) Train Acc: 0.877933 Loss: 0.002741\n",
            "[029/030] 29.43 sec(s) Train Acc: 0.890117 Loss: 0.002423\n",
            "[030/030] 29.37 sec(s) Train Acc: 0.908318 Loss: 0.002067\n"
          ]
        }
      ]
    },
    {
      "cell_type": "markdown",
      "metadata": {
        "id": "2o1oCMXy61_3"
      },
      "source": [
        "# Testing\n",
        "利用剛剛 train 好的 model 進行 prediction"
      ]
    },
    {
      "cell_type": "code",
      "metadata": {
        "id": "iAR6sn8U661G"
      },
      "source": [
        "test_set = ImgDataset(test_x, transform=test_transform)\n",
        "test_loader = DataLoader(test_set, batch_size=batch_size, shuffle=False)"
      ],
      "execution_count": 15,
      "outputs": []
    },
    {
      "cell_type": "code",
      "metadata": {
        "id": "4HznI9_-ocrq"
      },
      "source": [
        "model_best.eval()\n",
        "prediction = []\n",
        "with torch.no_grad():\n",
        "    for i, data in enumerate(test_loader):\n",
        "        test_pred = model_best(data.cuda())\n",
        "        test_label = np.argmax(test_pred.cpu().data.numpy(), axis=1)\n",
        "        for y in test_label:\n",
        "            prediction.append(y)"
      ],
      "execution_count": 16,
      "outputs": []
    },
    {
      "cell_type": "code",
      "metadata": {
        "id": "3t2q2Th85ZUE"
      },
      "source": [
        "#將結果寫入 csv 檔\n",
        "with open(\"predict.csv\", 'w') as f:\n",
        "    f.write('Id,Category\\n')\n",
        "    for i, y in  enumerate(prediction):\n",
        "        f.write('{},{}\\n'.format(i, y))"
      ],
      "execution_count": 17,
      "outputs": []
    }
  ]
}