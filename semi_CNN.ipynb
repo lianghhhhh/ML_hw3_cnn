{
  "nbformat": 4,
  "nbformat_minor": 0,
  "metadata": {
    "accelerator": "GPU",
    "colab": {
      "provenance": [],
      "include_colab_link": true
    },
    "kernelspec": {
      "display_name": "Python 3",
      "name": "python3"
    }
  },
  "cells": [
    {
      "cell_type": "markdown",
      "metadata": {
        "id": "view-in-github",
        "colab_type": "text"
      },
      "source": [
        "<a href=\"https://colab.research.google.com/github/lianghhhhh/ML_hw3_cnn/blob/main/semi_CNN.ipynb\" target=\"_parent\"><img src=\"https://colab.research.google.com/assets/colab-badge.svg\" alt=\"Open In Colab\"/></a>"
      ]
    },
    {
      "cell_type": "markdown",
      "metadata": {
        "id": "D_a2USyd4giE"
      },
      "source": [
        "# **Homework 3 - Convolutional Neural Network**\n",
        "\n",
        "若有任何問題，歡迎來信至助教信箱 ntu-ml-2020spring-ta@googlegroups.com"
      ]
    },
    {
      "cell_type": "code",
      "metadata": {
        "id": "zhzdomRTOKoJ"
      },
      "source": [
        "!gdown --id '19CzXudqN58R3D-1G8KeFWk8UDQwlb8is' --output food-11.zip # 下載資料集\n",
        "!unzip food-11.zip # 解壓縮"
      ],
      "execution_count": null,
      "outputs": []
    },
    {
      "cell_type": "code",
      "metadata": {
        "id": "9sVrKci4PUFW"
      },
      "source": [
        "# Import需要的套件\n",
        "import os\n",
        "import numpy as np\n",
        "import cv2\n",
        "import torch\n",
        "import torch.nn as nn\n",
        "import torchvision.transforms as transforms\n",
        "import pandas as pd\n",
        "from torch.utils.data import DataLoader, Dataset\n",
        "import time"
      ],
      "execution_count": 14,
      "outputs": []
    },
    {
      "cell_type": "markdown",
      "metadata": {
        "id": "F0i9ZCPrOVN_"
      },
      "source": [
        "#Read image\n",
        "利用 OpenCV (cv2) 讀入照片並存放在 numpy array 中"
      ]
    },
    {
      "cell_type": "code",
      "metadata": {
        "id": "Zf7QPifJQNUK"
      },
      "source": [
        "def readfile(path, label):\n",
        "    # label 是一個 boolean variable，代表需不需要回傳 y 值\n",
        "    image_dir = sorted(os.listdir(path))\n",
        "    x = np.zeros((len(image_dir), 128, 128, 3), dtype=np.uint8)\n",
        "    y = np.zeros((len(image_dir)), dtype=np.uint8)\n",
        "    for i, file in enumerate(image_dir):\n",
        "        img = cv2.imread(os.path.join(path, file))\n",
        "        x[i, :, :] = cv2.resize(img,(128, 128))\n",
        "        if label:\n",
        "          y[i] = int(file.split(\"_\")[0])\n",
        "    if label:\n",
        "      return x, y\n",
        "    else:\n",
        "      return x"
      ],
      "execution_count": 15,
      "outputs": []
    },
    {
      "cell_type": "code",
      "metadata": {
        "colab": {
          "base_uri": "https://localhost:8080/"
        },
        "id": "5ebVIY5HQQH7",
        "outputId": "31aabaf6-80ff-4c32-906b-2cab1fcc5b90"
      },
      "source": [
        "# 分別將 training set、validation set、testing set 用 readfile 函式讀進來\n",
        "workspace_dir = './food-11'\n",
        "print(\"Reading data\")\n",
        "train_x, train_y = readfile(os.path.join(workspace_dir, \"training\"), True)\n",
        "print(\"Size of training data = {}\".format(len(train_x)))\n",
        "val_x, val_y = readfile(os.path.join(workspace_dir, \"validation\"), True)\n",
        "print(\"Size of validation data = {}\".format(len(val_x)))\n",
        "test_x = readfile(os.path.join(workspace_dir, \"testing\"), False)\n",
        "print(\"Size of Testing data = {}\".format(len(test_x)))"
      ],
      "execution_count": 16,
      "outputs": [
        {
          "output_type": "stream",
          "name": "stdout",
          "text": [
            "Reading data\n",
            "Size of training data = 9866\n",
            "Size of validation data = 3430\n",
            "Size of Testing data = 3347\n"
          ]
        }
      ]
    },
    {
      "cell_type": "markdown",
      "metadata": {
        "id": "gq5KVMM3OHY6"
      },
      "source": [
        "# Dataset\n",
        "在 PyTorch 中，我們可以利用 torch.utils.data 的 Dataset 及 DataLoader 來\"包裝\" data，使後續的 training 及 testing 更為方便。\n",
        "\n",
        "Dataset 需要 overload 兩個函數：\\_\\_len\\_\\_ 及 \\_\\_getitem\\_\\_\n",
        "\n",
        "\\_\\_len\\_\\_ 必須要回傳 dataset 的大小，而 \\_\\_getitem\\_\\_ 則定義了當程式利用 [ ] 取值時，dataset 應該要怎麼回傳資料。\n",
        "\n",
        "實際上我們並不會直接使用到這兩個函數，但是使用 DataLoader 在 enumerate Dataset 時會使用到，沒有實做的話會在程式運行階段出現 error。\n"
      ]
    },
    {
      "cell_type": "code",
      "metadata": {
        "id": "gKd2abixQghI"
      },
      "source": [
        "# training 時做 data augmentation\n",
        "train_transform = transforms.Compose([\n",
        "    transforms.ToPILImage(),\n",
        "    transforms.RandomHorizontalFlip(), # 隨機將圖片水平翻轉\n",
        "    transforms.RandomRotation(15), # 隨機旋轉圖片\n",
        "    transforms.ToTensor(), # 將圖片轉成 Tensor，並把數值 normalize 到 [0,1] (data normalization)\n",
        "])\n",
        "# testing 時不需做 data augmentation\n",
        "test_transform = transforms.Compose([\n",
        "    transforms.ToPILImage(),\n",
        "    transforms.ToTensor(),\n",
        "])\n",
        "class ImgDataset(Dataset):\n",
        "    def __init__(self, x, y=None, transform=None):\n",
        "        self.x = x\n",
        "        # label is required to be a LongTensor\n",
        "        self.y = y\n",
        "        if y is not None:\n",
        "            self.y = torch.LongTensor(y)\n",
        "        self.transform = transform\n",
        "    def __len__(self):\n",
        "        return len(self.x)\n",
        "    def __getitem__(self, index):\n",
        "        X = self.x[index]\n",
        "        if self.transform is not None:\n",
        "            X = self.transform(X)\n",
        "        if self.y is not None:\n",
        "            Y = self.y[index]\n",
        "            return X, Y\n",
        "        else:\n",
        "            return X"
      ],
      "execution_count": 17,
      "outputs": []
    },
    {
      "cell_type": "code",
      "metadata": {
        "id": "qz6jeMnkQl0_"
      },
      "source": [
        "batch_size = 128\n",
        "train_set = ImgDataset(train_x, train_y, train_transform)\n",
        "val_set = ImgDataset(val_x, val_y, test_transform)\n",
        "train_loader = DataLoader(train_set, batch_size=batch_size, shuffle=True)\n",
        "val_loader = DataLoader(val_set, batch_size=batch_size, shuffle=False)\n",
        "\n",
        "#test -> unlabeled -> do semi\n",
        "unlabeled_x = test_x\n",
        "unlabeled_set = ImgDataset(test_x, transform=test_transform)"
      ],
      "execution_count": 18,
      "outputs": []
    },
    {
      "cell_type": "markdown",
      "metadata": {
        "id": "j9YhZo7POPYG"
      },
      "source": [
        "# Model"
      ]
    },
    {
      "cell_type": "code",
      "metadata": {
        "id": "Y1c-GwrMQqMl"
      },
      "source": [
        "class Classifier(nn.Module):\n",
        "    def __init__(self):\n",
        "        super(Classifier, self).__init__()\n",
        "        # torch.nn.Conv2d(in_channels, out_channels, kernel_size, stride, padding)\n",
        "        # torch.nn.MaxPool2d(kernel_size, stride, padding)\n",
        "        # input 維度 [3, 128, 128]\n",
        "        self.cnn = nn.Sequential(\n",
        "            nn.Conv2d(3, 64, 3, 1, 1),  # [64, 128, 128]\n",
        "            nn.BatchNorm2d(64),\n",
        "            nn.ReLU(),\n",
        "            nn.MaxPool2d(2, 2, 0),      # [64, 64, 64]\n",
        "\n",
        "            nn.Conv2d(64, 128, 3, 1, 1), # [128, 64, 64]\n",
        "            nn.BatchNorm2d(128),\n",
        "            nn.ReLU(),\n",
        "            nn.MaxPool2d(2, 2, 0),      # [128, 32, 32]\n",
        "\n",
        "            nn.Conv2d(128, 256, 3, 1, 1), # [256, 32, 32]\n",
        "            nn.BatchNorm2d(256),\n",
        "            nn.ReLU(),\n",
        "            nn.MaxPool2d(2, 2, 0),      # [256, 16, 16]\n",
        "\n",
        "            nn.Conv2d(256, 512, 3, 1, 1), # [512, 16, 16]\n",
        "            nn.BatchNorm2d(512),\n",
        "            nn.ReLU(),\n",
        "            nn.MaxPool2d(2, 2, 0),       # [512, 8, 8]\n",
        "\n",
        "            nn.Conv2d(512, 512, 3, 1, 1), # [512, 8, 8]\n",
        "            nn.BatchNorm2d(512),\n",
        "            nn.ReLU(),\n",
        "            nn.MaxPool2d(2, 2, 0),       # [512, 4, 4]\n",
        "        )\n",
        "        self.fc = nn.Sequential(\n",
        "            nn.Linear(512*4*4, 1024),\n",
        "            nn.ReLU(),\n",
        "            nn.Linear(1024, 512),\n",
        "            nn.ReLU(),\n",
        "            nn.Linear(512, 11)\n",
        "        )\n",
        "\n",
        "    def forward(self, x):\n",
        "        out = self.cnn(x)\n",
        "        out = out.view(out.size()[0], -1)\n",
        "        return self.fc(out)"
      ],
      "execution_count": 19,
      "outputs": []
    },
    {
      "cell_type": "markdown",
      "source": [
        "define unlabeled function for doing semi-supervised learning"
      ],
      "metadata": {
        "id": "962ireP5QX8T"
      }
    },
    {
      "cell_type": "code",
      "metadata": {
        "id": "swlf5EwA-hxA"
      },
      "source": [
        "def get_pseudo_labels(dataset, model, threshold=0.65):\n",
        "    # This functions generates pseudo-labels of a dataset using given model.\n",
        "    # It returns an instance of DatasetFolder containing images whose prediction confidences exceed a given threshold.\n",
        "    # You are NOT allowed to use any models trained on external data for pseudo-labeling.\n",
        "\n",
        "    # Construct a data loader.\n",
        "    data_loader = DataLoader(dataset, batch_size=batch_size, shuffle=False)\n",
        "\n",
        "    # Make sure the model is in eval mode.\n",
        "    model.eval()\n",
        "\n",
        "    prediction = []\n",
        "    with torch.no_grad():\n",
        "        for i, data in enumerate(data_loader):\n",
        "            pred = model(data.cuda())\n",
        "            label = np.argmax(pred.cpu().data.numpy(), axis=1)\n",
        "            for y in label:\n",
        "                prediction.append(y)\n",
        "\n",
        "    # # Turn off the eval mode.\n",
        "    model.train()\n",
        "    return prediction"
      ],
      "execution_count": 21,
      "outputs": []
    },
    {
      "cell_type": "markdown",
      "metadata": {
        "id": "aEnGbriXORN3"
      },
      "source": [
        "# Training"
      ]
    },
    {
      "cell_type": "markdown",
      "metadata": {
        "id": "_5x-FH2Kr_jh"
      },
      "source": [
        "使用 training set 訓練，並使用 validation set 尋找好的參數"
      ]
    },
    {
      "cell_type": "code",
      "metadata": {
        "colab": {
          "base_uri": "https://localhost:8080/"
        },
        "id": "PHaFE-8oQtkC",
        "outputId": "a889473f-2686-4e41-f463-d320fbd7ee16"
      },
      "source": [
        "model = Classifier().cuda()\n",
        "loss = nn.CrossEntropyLoss() # 因為是 classification task，所以 loss 使用 CrossEntropyLoss\n",
        "optimizer = torch.optim.Adam(model.parameters(), lr=0.001) # optimizer 使用 Adam\n",
        "num_epoch = 80\n",
        "\n",
        "train_loss_record = []\n",
        "valid_loss_record = []\n",
        "train_acc_record = []\n",
        "valid_acc_record = []\n",
        "best_acc = 0.0\n",
        "\n",
        "do_semi = True\n",
        "did_semi = False\n",
        "\n",
        "for epoch in range(num_epoch):\n",
        "    epoch_start_time = time.time()\n",
        "    train_acc = 0.0\n",
        "    train_loss = 0.0\n",
        "    val_acc = 0.0\n",
        "    val_loss = 0.0\n",
        "\n",
        "    if do_semi and best_acc > 0.7:\n",
        "        print(\"do_semi\")\n",
        "        did_semi = True\n",
        "        labeled_y = get_pseudo_labels(unlabeled_set, model)\n",
        "        x = np.concatenate((train_x, unlabeled_x), axis=0)\n",
        "        y = np.concatenate((train_y, labeled_y), axis=0)\n",
        "        semi_train_set = ImgDataset(x, y, train_transform)\n",
        "        train_loader = DataLoader(semi_train_set, batch_size=batch_size, shuffle=True)\n",
        "\n",
        "    model.train() # 確保 model 是在 train model (開啟 Dropout 等...)\n",
        "    for i, data in enumerate(train_loader):\n",
        "        optimizer.zero_grad() # 用 optimizer 將 model 參數的 gradient 歸零\n",
        "        train_pred = model(data[0].cuda()) # 利用 model 得到預測的機率分佈 這邊實際上就是去呼叫 model 的 forward 函數\n",
        "        batch_loss = loss(train_pred, data[1].cuda()) # 計算 loss （注意 prediction 跟 label 必須同時在 CPU 或是 GPU 上）\n",
        "        batch_loss.backward() # 利用 back propagation 算出每個參數的 gradient\n",
        "        optimizer.step() # 以 optimizer 用 gradient 更新參數值\n",
        "\n",
        "        train_acc += np.sum(np.argmax(train_pred.cpu().data.numpy(), axis=1) == data[1].numpy())\n",
        "        train_loss += batch_loss.item()\n",
        "\n",
        "    model.eval()\n",
        "    with torch.no_grad():\n",
        "        for i, data in enumerate(val_loader):\n",
        "            val_pred = model(data[0].cuda())\n",
        "            batch_loss = loss(val_pred, data[1].cuda())\n",
        "\n",
        "            val_acc += np.sum(np.argmax(val_pred.cpu().data.numpy(), axis=1) == data[1].numpy())\n",
        "            val_loss += batch_loss.item()\n",
        "\n",
        "        #將結果 print 出來\n",
        "        if did_semi:\n",
        "            print('[%03d/%03d] %2.2f sec(s) Train Acc: %3.6f Loss: %3.6f | Val Acc: %3.6f loss: %3.6f' % \\\n",
        "             (epoch + 1, num_epoch, time.time()-epoch_start_time, \\\n",
        "              train_acc/semi_train_set.__len__(), train_loss/semi_train_set.__len__(), val_acc/val_set.__len__(), val_loss/val_set.__len__()))\n",
        "            train_loss_record.append(train_loss/semi_train_set.__len__())\n",
        "            valid_loss_record.append(val_loss/val_set.__len__())\n",
        "            train_acc_record.append(train_acc/semi_train_set.__len__())\n",
        "            valid_acc_record.append(val_acc/val_set.__len__())\n",
        "\n",
        "        else:\n",
        "            print('[%03d/%03d] %2.2f sec(s) Train Acc: %3.6f Loss: %3.6f | Val Acc: %3.6f loss: %3.6f' % \\\n",
        "             (epoch + 1, num_epoch, time.time()-epoch_start_time, \\\n",
        "              train_acc/train_set.__len__(), train_loss/train_set.__len__(), val_acc/val_set.__len__(), val_loss/val_set.__len__()))\n",
        "            train_loss_record.append(train_loss/train_set.__len__())\n",
        "            valid_loss_record.append(val_loss/val_set.__len__())\n",
        "            train_acc_record.append(train_acc/train_set.__len__())\n",
        "            valid_acc_record.append(val_acc/val_set.__len__())\n",
        "\n",
        "\n",
        "    if (val_acc/val_set.__len__()) > best_acc:\n",
        "        best_acc = (val_acc/val_set.__len__())\n"
      ],
      "execution_count": 22,
      "outputs": [
        {
          "output_type": "stream",
          "name": "stdout",
          "text": [
            "[001/080] 25.05 sec(s) Train Acc: 0.221873 Loss: 0.018291 | Val Acc: 0.246356 loss: 0.017021\n",
            "[002/080] 25.28 sec(s) Train Acc: 0.313602 Loss: 0.015276 | Val Acc: 0.309621 loss: 0.016018\n",
            "[003/080] 25.44 sec(s) Train Acc: 0.380904 Loss: 0.013948 | Val Acc: 0.389504 loss: 0.013769\n",
            "[004/080] 25.30 sec(s) Train Acc: 0.430266 Loss: 0.012848 | Val Acc: 0.406706 loss: 0.013814\n",
            "[005/080] 25.33 sec(s) Train Acc: 0.468782 Loss: 0.011965 | Val Acc: 0.362391 loss: 0.015506\n",
            "[006/080] 25.06 sec(s) Train Acc: 0.512771 Loss: 0.011077 | Val Acc: 0.418950 loss: 0.014203\n",
            "[007/080] 24.99 sec(s) Train Acc: 0.530509 Loss: 0.010550 | Val Acc: 0.501166 loss: 0.011651\n",
            "[008/080] 25.17 sec(s) Train Acc: 0.552504 Loss: 0.009968 | Val Acc: 0.512828 loss: 0.011908\n",
            "[009/080] 25.18 sec(s) Train Acc: 0.595783 Loss: 0.009164 | Val Acc: 0.452478 loss: 0.013926\n",
            "[010/080] 25.19 sec(s) Train Acc: 0.602574 Loss: 0.009065 | Val Acc: 0.494752 loss: 0.012179\n",
            "[011/080] 25.24 sec(s) Train Acc: 0.629333 Loss: 0.008515 | Val Acc: 0.553644 loss: 0.010299\n",
            "[012/080] 25.07 sec(s) Train Acc: 0.646463 Loss: 0.007998 | Val Acc: 0.550729 loss: 0.010887\n",
            "[013/080] 24.96 sec(s) Train Acc: 0.673627 Loss: 0.007479 | Val Acc: 0.525656 loss: 0.011722\n",
            "[014/080] 25.02 sec(s) Train Acc: 0.680215 Loss: 0.007227 | Val Acc: 0.623907 loss: 0.009294\n",
            "[015/080] 25.14 sec(s) Train Acc: 0.696229 Loss: 0.006902 | Val Acc: 0.361516 loss: 0.019624\n",
            "[016/080] 25.15 sec(s) Train Acc: 0.709609 Loss: 0.006508 | Val Acc: 0.460933 loss: 0.015318\n",
            "[017/080] 25.09 sec(s) Train Acc: 0.718832 Loss: 0.006420 | Val Acc: 0.608746 loss: 0.009414\n",
            "[018/080] 25.07 sec(s) Train Acc: 0.735050 Loss: 0.005936 | Val Acc: 0.576093 loss: 0.011332\n",
            "[019/080] 24.97 sec(s) Train Acc: 0.757957 Loss: 0.005533 | Val Acc: 0.555977 loss: 0.012351\n",
            "[020/080] 24.89 sec(s) Train Acc: 0.757855 Loss: 0.005462 | Val Acc: 0.637318 loss: 0.009293\n",
            "[021/080] 25.01 sec(s) Train Acc: 0.767383 Loss: 0.005351 | Val Acc: 0.634111 loss: 0.009333\n",
            "[022/080] 25.01 sec(s) Train Acc: 0.786438 Loss: 0.004915 | Val Acc: 0.656851 loss: 0.008873\n",
            "[023/080] 25.21 sec(s) Train Acc: 0.796371 Loss: 0.004525 | Val Acc: 0.666472 loss: 0.008769\n",
            "[024/080] 25.10 sec(s) Train Acc: 0.814109 Loss: 0.004271 | Val Acc: 0.541399 loss: 0.015097\n",
            "[025/080] 25.19 sec(s) Train Acc: 0.812893 Loss: 0.004221 | Val Acc: 0.671720 loss: 0.008851\n",
            "[026/080] 24.94 sec(s) Train Acc: 0.831948 Loss: 0.003868 | Val Acc: 0.611370 loss: 0.011617\n",
            "[027/080] 25.06 sec(s) Train Acc: 0.826982 Loss: 0.003832 | Val Acc: 0.657143 loss: 0.009438\n",
            "[028/080] 25.20 sec(s) Train Acc: 0.846848 Loss: 0.003565 | Val Acc: 0.628571 loss: 0.010225\n",
            "[029/080] 25.17 sec(s) Train Acc: 0.854754 Loss: 0.003249 | Val Acc: 0.660058 loss: 0.010196\n",
            "[030/080] 25.02 sec(s) Train Acc: 0.876242 Loss: 0.002812 | Val Acc: 0.587464 loss: 0.014218\n",
            "[031/080] 25.13 sec(s) Train Acc: 0.872593 Loss: 0.002802 | Val Acc: 0.654227 loss: 0.010768\n",
            "[032/080] 25.01 sec(s) Train Acc: 0.885871 Loss: 0.002650 | Val Acc: 0.633236 loss: 0.011536\n",
            "[033/080] 24.93 sec(s) Train Acc: 0.872289 Loss: 0.002851 | Val Acc: 0.666181 loss: 0.010506\n",
            "[034/080] 25.01 sec(s) Train Acc: 0.874316 Loss: 0.002789 | Val Acc: 0.672303 loss: 0.010824\n",
            "[035/080] 25.05 sec(s) Train Acc: 0.900264 Loss: 0.002195 | Val Acc: 0.630321 loss: 0.012769\n",
            "[036/080] 25.11 sec(s) Train Acc: 0.906345 Loss: 0.002157 | Val Acc: 0.668222 loss: 0.011493\n",
            "[037/080] 25.06 sec(s) Train Acc: 0.905230 Loss: 0.002194 | Val Acc: 0.635277 loss: 0.013378\n",
            "[038/080] 25.08 sec(s) Train Acc: 0.886884 Loss: 0.002687 | Val Acc: 0.668513 loss: 0.010536\n",
            "[039/080] 24.83 sec(s) Train Acc: 0.915366 Loss: 0.001828 | Val Acc: 0.683382 loss: 0.011089\n",
            "[040/080] 24.94 sec(s) Train Acc: 0.931178 Loss: 0.001583 | Val Acc: 0.668513 loss: 0.011167\n",
            "[041/080] 25.05 sec(s) Train Acc: 0.925400 Loss: 0.001705 | Val Acc: 0.660058 loss: 0.012994\n",
            "[042/080] 25.06 sec(s) Train Acc: 0.909487 Loss: 0.002168 | Val Acc: 0.669096 loss: 0.012139\n",
            "[043/080] 25.16 sec(s) Train Acc: 0.881512 Loss: 0.002834 | Val Acc: 0.654227 loss: 0.012612\n",
            "[044/080] 25.10 sec(s) Train Acc: 0.896919 Loss: 0.002425 | Val Acc: 0.704082 loss: 0.009920\n",
            "do_semi\n",
            "[045/080] 35.24 sec(s) Train Acc: 0.896617 Loss: 0.002348 | Val Acc: 0.689213 loss: 0.011275\n",
            "do_semi\n",
            "[046/080] 35.67 sec(s) Train Acc: 0.898509 Loss: 0.002366 | Val Acc: 0.712536 loss: 0.009515\n",
            "do_semi\n",
            "[047/080] 35.44 sec(s) Train Acc: 0.913873 Loss: 0.001970 | Val Acc: 0.709621 loss: 0.009981\n",
            "do_semi\n",
            "[048/080] 35.25 sec(s) Train Acc: 0.911905 Loss: 0.002048 | Val Acc: 0.693003 loss: 0.009831\n",
            "do_semi\n",
            "[049/080] 35.51 sec(s) Train Acc: 0.912208 Loss: 0.002060 | Val Acc: 0.680175 loss: 0.010496\n",
            "do_semi\n",
            "[050/080] 35.52 sec(s) Train Acc: 0.922955 Loss: 0.001895 | Val Acc: 0.657726 loss: 0.011777\n",
            "do_semi\n",
            "[051/080] 35.35 sec(s) Train Acc: 0.911829 Loss: 0.002121 | Val Acc: 0.650729 loss: 0.012743\n",
            "do_semi\n",
            "[052/080] 35.31 sec(s) Train Acc: 0.905926 Loss: 0.002320 | Val Acc: 0.684840 loss: 0.010175\n",
            "do_semi\n",
            "[053/080] 35.12 sec(s) Train Acc: 0.921290 Loss: 0.001853 | Val Acc: 0.684257 loss: 0.011027\n",
            "do_semi\n",
            "[054/080] 35.89 sec(s) Train Acc: 0.929009 Loss: 0.001796 | Val Acc: 0.676385 loss: 0.011307\n",
            "do_semi\n",
            "[055/080] 35.97 sec(s) Train Acc: 0.925831 Loss: 0.001783 | Val Acc: 0.673761 loss: 0.011681\n",
            "do_semi\n",
            "[056/080] 35.86 sec(s) Train Acc: 0.930296 Loss: 0.001702 | Val Acc: 0.686006 loss: 0.010818\n",
            "do_semi\n",
            "[057/080] 35.99 sec(s) Train Acc: 0.936653 Loss: 0.001542 | Val Acc: 0.681050 loss: 0.011481\n",
            "do_semi\n",
            "[058/080] 35.35 sec(s) Train Acc: 0.930901 Loss: 0.001673 | Val Acc: 0.675219 loss: 0.011708\n",
            "do_semi\n",
            "[059/080] 35.43 sec(s) Train Acc: 0.921290 Loss: 0.001898 | Val Acc: 0.681341 loss: 0.011221\n",
            "do_semi\n",
            "[060/080] 35.43 sec(s) Train Acc: 0.929085 Loss: 0.001715 | Val Acc: 0.659475 loss: 0.012867\n",
            "do_semi\n",
            "[061/080] 35.15 sec(s) Train Acc: 0.920760 Loss: 0.001949 | Val Acc: 0.689504 loss: 0.010782\n",
            "do_semi\n",
            "[062/080] 35.48 sec(s) Train Acc: 0.939075 Loss: 0.001482 | Val Acc: 0.667055 loss: 0.012534\n",
            "do_semi\n",
            "[063/080] 35.29 sec(s) Train Acc: 0.935140 Loss: 0.001545 | Val Acc: 0.689504 loss: 0.011568\n",
            "do_semi\n",
            "[064/080] 35.39 sec(s) Train Acc: 0.945054 Loss: 0.001350 | Val Acc: 0.659767 loss: 0.012845\n",
            "do_semi\n",
            "[065/080] 35.41 sec(s) Train Acc: 0.919776 Loss: 0.002129 | Val Acc: 0.668222 loss: 0.012807\n",
            "do_semi\n",
            "[066/080] 35.16 sec(s) Train Acc: 0.937864 Loss: 0.001612 | Val Acc: 0.681050 loss: 0.011343\n",
            "do_semi\n",
            "[067/080] 35.49 sec(s) Train Acc: 0.943540 Loss: 0.001414 | Val Acc: 0.662099 loss: 0.012955\n",
            "do_semi\n",
            "[068/080] 35.47 sec(s) Train Acc: 0.938697 Loss: 0.001544 | Val Acc: 0.631778 loss: 0.014150\n",
            "do_semi\n",
            "[069/080] 35.61 sec(s) Train Acc: 0.929312 Loss: 0.001708 | Val Acc: 0.655685 loss: 0.012350\n",
            "do_semi\n",
            "[070/080] 36.25 sec(s) Train Acc: 0.939227 Loss: 0.001499 | Val Acc: 0.681050 loss: 0.011215\n",
            "do_semi\n",
            "[071/080] 35.70 sec(s) Train Acc: 0.937032 Loss: 0.001513 | Val Acc: 0.685131 loss: 0.011567\n",
            "do_semi\n",
            "[072/080] 35.69 sec(s) Train Acc: 0.946946 Loss: 0.001317 | Val Acc: 0.663557 loss: 0.013366\n",
            "do_semi\n",
            "[073/080] 35.97 sec(s) Train Acc: 0.939908 Loss: 0.001456 | Val Acc: 0.684840 loss: 0.012078\n",
            "do_semi\n",
            "[074/080] 35.85 sec(s) Train Acc: 0.953909 Loss: 0.001178 | Val Acc: 0.689213 loss: 0.012187\n",
            "do_semi\n",
            "[075/080] 36.23 sec(s) Train Acc: 0.956936 Loss: 0.001087 | Val Acc: 0.668513 loss: 0.013474\n",
            "do_semi\n",
            "[076/080] 35.53 sec(s) Train Acc: 0.945660 Loss: 0.001270 | Val Acc: 0.641691 loss: 0.013999\n",
            "do_semi\n",
            "[077/080] 35.79 sec(s) Train Acc: 0.924317 Loss: 0.002070 | Val Acc: 0.666181 loss: 0.011332\n",
            "do_semi\n",
            "[078/080] 35.42 sec(s) Train Acc: 0.944751 Loss: 0.001384 | Val Acc: 0.662391 loss: 0.013164\n",
            "do_semi\n",
            "[079/080] 35.08 sec(s) Train Acc: 0.946871 Loss: 0.001315 | Val Acc: 0.688630 loss: 0.012054\n",
            "do_semi\n",
            "[080/080] 35.42 sec(s) Train Acc: 0.951941 Loss: 0.001185 | Val Acc: 0.695044 loss: 0.011969\n"
          ]
        }
      ]
    },
    {
      "cell_type": "markdown",
      "source": [
        "Visualize data"
      ],
      "metadata": {
        "id": "fU_UDDAR6hLY"
      }
    },
    {
      "cell_type": "code",
      "source": [
        "import matplotlib.pyplot as plt\n",
        "\n",
        "x = np.arange(len(train_acc_record))\n",
        "plt.plot(x, train_acc_record, color=\"blue\", label=\"Train\")\n",
        "plt.plot(x, valid_acc_record, color=\"red\", label=\"Valid\")\n",
        "plt.legend(loc=\"upper right\")\n",
        "plt.show()\n",
        "\n",
        "\n",
        "x = np.arange(len(train_loss_record))\n",
        "plt.plot(x, train_loss_record, color=\"blue\", label=\"Train\")\n",
        "plt.plot(x, valid_loss_record, color=\"red\", label=\"Valid\")\n",
        "plt.legend(loc=\"upper right\")\n",
        "plt.show()"
      ],
      "metadata": {
        "colab": {
          "base_uri": "https://localhost:8080/",
          "height": 843
        },
        "id": "jV7_ZpqZ6kK6",
        "outputId": "9f07c0ca-65e2-4a68-dca5-1c5ecb4360dd"
      },
      "execution_count": 23,
      "outputs": [
        {
          "output_type": "display_data",
          "data": {
            "text/plain": [
              "<Figure size 640x480 with 1 Axes>"
            ],
            "image/png": "[encoded data removed]"
          },
          "metadata": {}
        },
        {
          "output_type": "display_data",
          "data": {
            "text/plain": [
              "<Figure size 640x480 with 1 Axes>"
            ],
            "image/png": "[encoded data removed]"
          },
          "metadata": {}
        }
      ]
    },
    {
      "cell_type": "markdown",
      "source": [
        "# Create requirements.txt"
      ],
      "metadata": {
        "id": "4IsP5S0M6qSx"
      }
    },
    {
      "cell_type": "code",
      "source": [
        "pip freeze > requirements.txt"
      ],
      "metadata": {
        "id": "u5fgzz8e67zl"
      },
      "execution_count": 24,
      "outputs": []
    }
  ]
}